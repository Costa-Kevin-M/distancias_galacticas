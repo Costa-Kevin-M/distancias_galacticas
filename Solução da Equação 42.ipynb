{
 "cells": [
  {
   "cell_type": "markdown",
   "id": "f8a8b652-c9d0-4686-9e9f-6b23eafe5122",
   "metadata": {},
   "source": [
    "# **Algoritmo para o cálculo numérico da Equação de Equilibrio Estelar**\n",
    "#### *Autor: Kevin Mota da Costa*\n",
    "> *Algoritmo para o cálculo numérico da Equação de Equilibrio Estela, utilizada*\n",
    "> *no trabalho denominado \"Determinação de distâncias extragalácticas - Determinação da distância à Pequena Nuvem de Magalhães através de Estrelas Variáveis\" (Equação 42)*\n",
    "> *desenvolvido por Kevin Mota da Costa, aluno do curso de bacharelado em física na Universidade Federal do Espírito Santo.*"
   ]
  },
  {
   "cell_type": "markdown",
   "id": "8d415b8c-e2d8-461c-9355-8b03970a049e",
   "metadata": {},
   "source": [
    "# Função do algoritmo"
   ]
  },
  {
   "cell_type": "markdown",
   "id": "e7aac842-2626-4955-81e1-cc99a77ccb24",
   "metadata": {},
   "source": [
    "> Objetivos principais e metodologia executada pelo algoritmo."
   ]
  },
  {
   "cell_type": "markdown",
   "id": "16daebe0-4a24-4f57-8695-d117b345ecb0",
   "metadata": {},
   "source": [
    "O algoritmo tem o propósito de solucionar numéricamente a equação diferêncial ordinária $\\ddot{r} = a r^2 - \\frac{b}{r^2}$ dadas as condições iniciais e os valores das constantes $a$ e $b$"
   ]
  },
  {
   "cell_type": "code",
   "execution_count": 35,
   "id": "57e97b13-1590-4b20-b081-a07cbea80d10",
   "metadata": {},
   "outputs": [
    {
     "name": "stderr",
     "output_type": "stream",
     "text": [
      "C:\\ProgramData\\Anaconda3\\lib\\site-packages\\scipy\\integrate\\odepack.py:247: ODEintWarning: Excess work done on this call (perhaps wrong Dfun type). Run with full_output = 1 to get quantitative information.\n",
      "  warnings.warn(warning_msg, ODEintWarning)\n",
      "C:\\ProgramData\\Anaconda3\\lib\\site-packages\\scipy\\integrate\\odepack.py:247: ODEintWarning: Excess work done on this call (perhaps wrong Dfun type). Run with full_output = 1 to get quantitative information.\n",
      "  warnings.warn(warning_msg, ODEintWarning)\n",
      "C:\\ProgramData\\Anaconda3\\lib\\site-packages\\scipy\\integrate\\odepack.py:247: ODEintWarning: Excess work done on this call (perhaps wrong Dfun type). Run with full_output = 1 to get quantitative information.\n",
      "  warnings.warn(warning_msg, ODEintWarning)\n",
      "C:\\ProgramData\\Anaconda3\\lib\\site-packages\\scipy\\integrate\\odepack.py:247: ODEintWarning: Excess work done on this call (perhaps wrong Dfun type). Run with full_output = 1 to get quantitative information.\n",
      "  warnings.warn(warning_msg, ODEintWarning)\n",
      "C:\\ProgramData\\Anaconda3\\lib\\site-packages\\scipy\\integrate\\odepack.py:247: ODEintWarning: Excess work done on this call (perhaps wrong Dfun type). Run with full_output = 1 to get quantitative information.\n",
      "  warnings.warn(warning_msg, ODEintWarning)\n"
     ]
    },
    {
     "data": {
      "image/png": "[encoded data removed]",
      "text/plain": [
       "<Figure size 432x288 with 5 Axes>"
      ]
     },
     "metadata": {
      "needs_background": "light"
     },
     "output_type": "display_data"
    }
   ],
   "source": [
    "from matplotlib import pyplot as plt\n",
    "from scipy.integrate import odeint\n",
    "import numpy as np\n",
    "\n",
    "def G(a,b,i,j):\n",
    "    def f(u,x):\n",
    "        return (u[1], a*u[0]**2 - b*u[0]**(-2))\n",
    "\n",
    "    u0 = [1,1]\n",
    "\n",
    "    xs = np.arange(0,25,0.5) # Intervalo Calculado\n",
    "\n",
    "    us = odeint(f, u0, xs)\n",
    "\n",
    "    ys = us[:,0]\n",
    "            \n",
    "\n",
    "    if (i==2):\n",
    "        plt.title('Solução numérica para a Equação 2') # Titulo do Gráfico da Solução\n",
    "        \n",
    "    plt.subplot(j, 1, i)\n",
    "\n",
    "    plt.plot(xs,ys,'b')\n",
    "\n",
    "\n",
    "a = [(i*1e-3) for i in range(500,1000,100)] # Conjunto de valores da constnate a\n",
    "b = [(i*1e1) for i in range(500,1000,100)] # Conjunto de valores da constnate b\n",
    "\n",
    "for i in range(len(a)):\n",
    "    G(a[i],b[i],i+1,len(a))\n",
    "\n",
    "plt.xlabel('Tempo') # Nome do Eixo X\n",
    "\n",
    "plt.ylabel('Raio') #Nome do Eixo y\n",
    "\n",
    "\n",
    "\n",
    "\n",
    "plt.savefig('./resultado1.png', format='png')\n"
   ]
  }
 ],
 "metadata": {
  "kernelspec": {
   "display_name": "Python 3 (ipykernel)",
   "language": "python",
   "name": "python3"
  },
  "language_info": {
   "codemirror_mode": {
    "name": "ipython",
    "version": 3
   },
   "file_extension": ".py",
   "mimetype": "text/x-python",
   "name": "python",
   "nbconvert_exporter": "python",
   "pygments_lexer": "ipython3",
   "version": "3.9.12"
  }
 },
 "nbformat": 4,
 "nbformat_minor": 5
}
