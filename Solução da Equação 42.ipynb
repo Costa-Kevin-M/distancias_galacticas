{
 "cells": [
  {
   "cell_type": "markdown",
   "id": "f8a8b652-c9d0-4686-9e9f-6b23eafe5122",
   "metadata": {},
   "source": [
    "# **Algoritmo para o cálculo numérico da Equação de Equilibrio Estelar**\n",
    "#### *Autor: Kevin Mota da Costa*\n",
    "> *Algoritmo para o cálculo numérico da Equação de Equilibrio Estela, utilizada*\n",
    "> *no trabalho denominado \"Determinação de distâncias extragalácticas - Determinação da distância à Pequena Nuvem de Magalhães através de Estrelas Variáveis\" (Equação 42)*\n",
    "> *desenvolvido por Kevin Mota da Costa, aluno do curso de bacharelado em física na Universidade Federal do Espírito Santo.*"
   ]
  },
  {
   "cell_type": "markdown",
   "id": "8d415b8c-e2d8-461c-9355-8b03970a049e",
   "metadata": {},
   "source": [
    "# Função do algoritmo"
   ]
  },
  {
   "cell_type": "markdown",
   "id": "e7aac842-2626-4955-81e1-cc99a77ccb24",
   "metadata": {},
   "source": [
    "> Objetivos principais e metodologia executada pelo algoritmo."
   ]
  },
  {
   "cell_type": "markdown",
   "id": "16daebe0-4a24-4f57-8695-d117b345ecb0",
   "metadata": {},
   "source": [
    "O algoritmo tem o propósito de solucionar numéricamente a equação diferêncial ordinária $\\ddot{r} = a r^2 - \\frac{b}{r^2}$ dadas as condições iniciais e os valores das constantes $a$ e $b$"
   ]
  },
  {
   "cell_type": "markdown",
   "id": "6b3d7ddd-91f6-49ac-bf3c-c2a492e05e96",
   "metadata": {},
   "source": [
    "Para a solução da EDO são utilizadas as bibliotecas matplotlib, numpy e scipy:\n",
    "\n",
    "<pre>   - Funções importadas do método \"scipy.integrate\":     \"odeint\"<br>"
   ]
  },
  {
   "cell_type": "markdown",
   "id": "d400ab45-9112-47be-a736-b9261a5296fa",
   "metadata": {},
   "source": [
    ">Esse bloco de código importa as bibliotecas e métodos necessários a resolução da EDO"
   ]
  },
  {
   "cell_type": "code",
   "execution_count": null,
   "id": "ff16ebf4-f0ee-4865-bcf1-b607971192ba",
   "metadata": {},
   "outputs": [],
   "source": [
    "from matplotlib import pyplot as plt\n",
    "from scipy.integrate import odeint\n",
    "import numpy as np"
   ]
  },
  {
   "cell_type": "markdown",
   "id": "e865feb3-b539-4e32-8b0c-a5fe4719341f",
   "metadata": {},
   "source": [
    "> Na primeira parte do algoritmo é definida a EDO e a função de resolução e plot da solução"
   ]
  },
  {
   "cell_type": "code",
   "execution_count": null,
   "id": "949201d9-f264-43a3-a26b-604eb62ac729",
   "metadata": {},
   "outputs": [],
   "source": [
    "def G(a,b,i,j):\n",
    "    def f(u,x):\n",
    "        return (u[1], a*u[0]**2 - b*u[0]**(-2))\n",
    "\n",
    "    u0 = [1,1]\n",
    "\n",
    "    xs = np.arange(0,25,0.5) # Intervalo Calculado\n",
    "\n",
    "    us = odeint(f, u0, xs)\n",
    "\n",
    "    ys = us[:,0]\n",
    "            \n",
    "\n",
    "    if (i==2):\n",
    "        plt.title('Solução numérica para a Equação 2') # Titulo do Gráfico da Solução\n",
    "        \n",
    "    plt.subplot(j, 1, i)\n",
    "\n",
    "    plt.plot(xs,ys,'b')"
   ]
  },
  {
   "cell_type": "markdown",
   "id": "0c1e9ae0-fc33-464f-b723-9b0da3bc4b8c",
   "metadata": {},
   "source": [
    "> Depois são definidos os conjuntos das constantes $a$ e $b$"
   ]
  },
  {
   "cell_type": "code",
   "execution_count": 41,
   "id": "57e97b13-1590-4b20-b081-a07cbea80d10",
   "metadata": {},
   "outputs": [
    {
     "name": "stderr",
     "output_type": "stream",
     "text": [
      "C:\\ProgramData\\Anaconda3\\lib\\site-packages\\scipy\\integrate\\odepack.py:247: ODEintWarning: Excess work done on this call (perhaps wrong Dfun type). Run with full_output = 1 to get quantitative information.\n",
      "  warnings.warn(warning_msg, ODEintWarning)\n",
      "C:\\ProgramData\\Anaconda3\\lib\\site-packages\\scipy\\integrate\\odepack.py:247: ODEintWarning: Excess work done on this call (perhaps wrong Dfun type). Run with full_output = 1 to get quantitative information.\n",
      "  warnings.warn(warning_msg, ODEintWarning)\n",
      "C:\\ProgramData\\Anaconda3\\lib\\site-packages\\scipy\\integrate\\odepack.py:247: ODEintWarning: Excess work done on this call (perhaps wrong Dfun type). Run with full_output = 1 to get quantitative information.\n",
      "  warnings.warn(warning_msg, ODEintWarning)\n",
      "C:\\ProgramData\\Anaconda3\\lib\\site-packages\\scipy\\integrate\\odepack.py:247: ODEintWarning: Excess work done on this call (perhaps wrong Dfun type). Run with full_output = 1 to get quantitative information.\n",
      "  warnings.warn(warning_msg, ODEintWarning)\n",
      "C:\\ProgramData\\Anaconda3\\lib\\site-packages\\scipy\\integrate\\odepack.py:247: ODEintWarning: Excess work done on this call (perhaps wrong Dfun type). Run with full_output = 1 to get quantitative information.\n",
      "  warnings.warn(warning_msg, ODEintWarning)\n"
     ]
    },
    {
     "data": {
      "image/png": "[encoded data removed]",
      "text/plain": [
       "<Figure size 432x288 with 5 Axes>"
      ]
     },
     "metadata": {
      "needs_background": "light"
     },
     "output_type": "display_data"
    }
   ],
   "source": [
    "a = [(i*1e-3) for i in range(500,1000,100)] # Conjunto de valores da constnate a\n",
    "b = [(i*1e4) for i in range(500,1000,100)] # Conjunto de valores da constnate b"
   ]
  },
  {
   "cell_type": "markdown",
   "id": "f79cf94f-6260-4a10-a824-2360ebbe427c",
   "metadata": {},
   "source": [
    "> Depois são calculadas as curvas de solução e em seguida as cur"
   ]
  },
  {
   "cell_type": "code",
   "execution_count": null,
   "id": "f13cc0ff-1207-4fab-aa10-13c2420d8990",
   "metadata": {},
   "outputs": [],
   "source": [
    "for i in range(len(a)):\n",
    "    G(a[i],b[i],i+1,len(a))\n",
    "\n",
    "plt.xlabel('Tempo') # Nome do Eixo X\n",
    "plt.ylabel('Raio') #Nome do Eixo y\n",
    "plt.savefig('./resultado1.png', format='png')"
   ]
  }
 ],
 "metadata": {
  "kernelspec": {
   "display_name": "Python 3 (ipykernel)",
   "language": "python",
   "name": "python3"
  },
  "language_info": {
   "codemirror_mode": {
    "name": "ipython",
    "version": 3
   },
   "file_extension": ".py",
   "mimetype": "text/x-python",
   "name": "python",
   "nbconvert_exporter": "python",
   "pygments_lexer": "ipython3",
   "version": "3.9.12"
  }
 },
 "nbformat": 4,
 "nbformat_minor": 5
}
