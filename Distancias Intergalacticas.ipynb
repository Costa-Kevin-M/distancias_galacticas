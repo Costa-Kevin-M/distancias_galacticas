{
 "cells": [
  {
   "cell_type": "markdown",
   "id": "676d9235-c2e8-4b84-ad08-4f64ceb1ff91",
   "metadata": {
    "tags": []
   },
   "source": [
    "# **Algoritmo para o cálculo da Lei de Leavitt para galáxias**\n",
    "#### *Autor: Kevin Mota da Costa*\n",
    "> *Algoritmo para o cálculo da Lei de Leavitt para galáxias, utilizando a metodologia desenvolvida*\n",
    "> *no trabalho denominado \"Determinação de distancias galácticas através de estrelas variáveis cefeidas disponiveis no catálogo OGLE III - Determinação da distância à Pequena Nuvem de Magalhães através de Estrelas Variáveis\"*\n",
    "> *desenvolvido por Kevin Mota da Costa, aluno do curso de bacharelado em física na Universidade Federal do Espírito Santo.*"
   ]
  },
  {
   "cell_type": "markdown",
   "id": "f1f5b1b4-6a6a-4690-8a36-28edf06d546f",
   "metadata": {},
   "source": [
    "# Função do algoritmo"
   ]
  },
  {
   "cell_type": "markdown",
   "id": "ff6e8094-61ae-4b86-b671-49c78d593952",
   "metadata": {},
   "source": [
    "> Objetivos principais e metodologia executada pelo algoritmo."
   ]
  },
  {
   "cell_type": "markdown",
   "id": "ccbbe4b1-f32b-4249-a082-6e91f555a74c",
   "metadata": {},
   "source": [
    "O algoritmo tem o propósito de calcular a Lei de Leavitt para estrelas variáveis cefeidas em uma galáxia, para isso o algoritmo faz o uso do periodograma LombScargle,<br>\n",
    "do método de ajuste dos minimos quadrados não linear e de uma análise de imagens para uma quantificação de dispersão dos dados."
   ]
  },
  {
   "cell_type": "markdown",
   "id": "9ec678ef-7ea1-4bd7-b0b8-0eed901db238",
   "metadata": {
    "tags": []
   },
   "source": [
    "# Instruções de uso do algoritmo<br>\n",
    "> *Instruções de uso do algoritmo*"
   ]
  },
  {
   "cell_type": "markdown",
   "id": "f23d1f41-3b61-410f-8a58-9edfd95980c2",
   "metadata": {},
   "source": [
    "Para o funcionamento correto do algoritmo, o usuário deve - preliminarmente - criar um diretório denominado \"DATABASE\" contendo arquivos de texto <br>\n",
    "com os dados das estrelas, cada estrela será representada por um arquivo de texto organizado em colunas separadas por um espaço simples \" \", a primeira<br>\n",
    "coluna deverá conter o tempo (em dias julianos), a segunda coluna deverá conter a magnitude aparente (em unidades arbritrárias) e a segunda coluna deverá<br>\n",
    "conter o erro na magnitude aparente (em unidades arbritárias)."
   ]
  },
  {
   "cell_type": "markdown",
   "id": "299f48ed-7fe0-4ff2-a13e-ce8008ae699e",
   "metadata": {},
   "source": [
    "# Estrutura do algoritmo"
   ]
  },
  {
   "cell_type": "markdown",
   "id": "2d80627c-34ce-4e1a-838b-ba21924007d7",
   "metadata": {},
   "source": [
    "> Explicação sobre a estrutura de funcionamento do algoritmo"
   ]
  },
  {
   "cell_type": "markdown",
   "id": "51ea2e87-2870-4348-a74c-1ae6009dd012",
   "metadata": {},
   "source": [
    "# Primeira etapa: Carregar os Arquivos"
   ]
  },
  {
   "cell_type": "markdown",
   "id": "84e0f702-b4be-4d22-8b1c-3ef79abfde1f",
   "metadata": {},
   "source": [
    "> O algoritmo se inicia carregando e organizando os arquivos das estrelas a serem trabalhadas"
   ]
  },
  {
   "cell_type": "markdown",
   "id": "86de6ca5-dd72-4be8-9284-094ca57a80ac",
   "metadata": {},
   "source": [
    "Para a leitura e organização dos dados são utilizadas as bibliotecas \"shutil\" e \"os\".\n",
    "\n",
    "<pre>   - Funções importadas da biblioteca \"os\":     \"mkdir\", \"listdir\"<br>\n",
    "<pre>   - Funções importados da biblioteca \"shutil\": \"rmtree\"<br>\n",
    "<pre>   - Métodos importados da função \"os.path\":    \"isdir\"<br>"
   ]
  },
  {
   "cell_type": "markdown",
   "id": "9fceff50-da68-495e-9a55-6bd954f55f0c",
   "metadata": {},
   "source": [
    "Função das funções e dos métodos utlizados:\n",
    "\n",
    "<pre>   - \"mkdir\":   criar um novo diretório.\n",
    "<pre>   - \"listdir\": listar - em uma tupla - os arquivos em um diretório.\n",
    "<pre>   - \"rmtree\":  remover um diretório com seus arquivos.\n",
    "<pre>   - \"isdir\":   verificar a existência de um diretório."
   ]
  },
  {
   "cell_type": "markdown",
   "id": "05c86523-d60e-403f-ae5d-2fbcf5d825e7",
   "metadata": {},
   "source": [
    ">Esse bloco de código importa as bibliotecas e métodos necessários ao primeiro passo:"
   ]
  },
  {
   "cell_type": "code",
   "execution_count": 1,
   "id": "72d42824-63cc-490d-b63d-5881625ac82b",
   "metadata": {},
   "outputs": [],
   "source": [
    "from os import mkdir,listdir\n",
    "from shutil import rmtree\n",
    "from os.path import isdir"
   ]
  },
  {
   "cell_type": "markdown",
   "id": "703e20af-54c1-4e6a-9704-d4431bac9dd6",
   "metadata": {},
   "source": [
    "Para a leitura e organização dos dados é definida a função \"redefinir\":<br>\n",
    "- A função \"redefinir\" verifica a existência de resultados de processamentos de dados anteriores, os exclui e cria um novo deretório para os resultados. As pastas são:<br>\n",
    "\n",
    "<pre>- RESULTS:                diretório onde serão salvos os resultados.\n",
    "<pre>- RESULTS/fase-data:      diretório onde ficarão os dados da curva de luz das estrelas no espaço de fase.\n",
    "<pre>- RESULTS/fase:           diretório onde ficarão salvas as curvas de luz das estrela no espaço de fase.\n",
    "<pre>- RESULTS/fase/dispersas: diretório onde ficarão salvas as curvas de luz das estrela no espaço de fase para as estrelas que não passaram nos testes de\n",
    "<pre>                          dispersão.\n",
    "<pre>- DISPERSAO:              diretório onde serão movidas as estrelas que falharem nos testes de dispersão.</pre>\n",
    "*\\*O diretório DISPERSAO é criado somente se não houver um diretório DISPERSAO criando anteriormente*"
   ]
  },
  {
   "cell_type": "markdown",
   "id": "00df503e-1e7e-4141-b0d9-b1d7edf247a0",
   "metadata": {},
   "source": [
    ">Após criar as pastas, a função lê os dados na pasta DATABASE e retorna uma tupla com o nome dos arquivos que contem os dados."
   ]
  },
  {
   "cell_type": "code",
   "execution_count": 2,
   "id": "a5712e1b-660f-4474-a4b9-20a529ac6ba3",
   "metadata": {},
   "outputs": [],
   "source": [
    "def redefinir():\n",
    "        \n",
    "        if isdir('./RESULTS/'):\n",
    "            rmtree('./RESULTS/')\n",
    "\n",
    "        if not isdir('./DISPERSAO/'):\n",
    "            mkdir('./DISPERSAO/')\n",
    "            \n",
    "        mkdir('./RESULTS/')\n",
    "        mkdir('./RESULTS/fase')\n",
    "        mkdir('./RESULTS/Fase-Data')\n",
    "        mkdir('./RESULTS/fase/dispersas')\n",
    "\n",
    "        return tuple(listdir('.\\DATABASE'))"
   ]
  },
  {
   "cell_type": "markdown",
   "id": "38ea2db0-db22-4e1a-9765-81ba25c9c9a9",
   "metadata": {},
   "source": [
    ">Esse bloco executa a função \"redefinir\" e cria uma variável denominada \"DATABASE\" contendo o nome dos arquivos de dados das estrelas contidas no database."
   ]
  },
  {
   "cell_type": "code",
   "execution_count": 3,
   "id": "0edf0d28-c588-4ff5-b690-55dfe7fe3aab",
   "metadata": {},
   "outputs": [],
   "source": [
    "DATABASE= redefinir()"
   ]
  },
  {
   "cell_type": "markdown",
   "id": "915bd2ba-ef83-460e-ab67-70c91abc5316",
   "metadata": {},
   "source": [
    "# Segunda etapa: Calcular os Periodos"
   ]
  },
  {
   "cell_type": "markdown",
   "id": "5674ce20-2f4d-4eac-82c1-a4b6f6749043",
   "metadata": {},
   "source": [
    "> Após a organização dos dados, o algoritmo calcula - através do método LombScargle - o periodo de oscilação das estrelas, e calcula a Lei de Leavitt para a galáxia"
   ]
  },
  {
   "cell_type": "markdown",
   "id": "aeac6bc5-73f6-4d67-96ac-ddc9c40758e9",
   "metadata": {},
   "source": [
    "Para o calculo dos periodos de oscilação das estrelas e para o calculo da Lei de Leavitt para a galáxia estudada, são necessárias as bibliotecas \"os\", \"ipywidgets\", \"matplotlib\", \"numpy\", \"astropy\", \"scipy\" e \"Ipython\".\n",
    "\n",
    "<pre>   - Métodos importados da função \"os.path\":           \"splitext\"\n",
    "<pre>   - Funções importadas da biblioteca \"ipywidgets\":    \"IntProgress\"\n",
    "<pre>   - Métodos importados da função \"matplotlib.pyplot\": \"clf\", \"savefig\", \"scatter\", \"title\", \"xlabel\", \"ylabel\", \"close\", \"gcf\", \"plot\" e \"show\"\n",
    "<pre>   - Funções importadas da biblioteca numpy:           \"loadtxt\", \"mean\", \"log10\", \"sqrt\", \"diag\" e \"linspace\"\n",
    "<pre>   - Métodos importados da função astropy.timeseries:  \"LombScargle\"\n",
    "<pre>   - Métodos importados da função scipy.optimize:      \"curve_fit\"\n",
    "<pre>   - Métodos importados da função IPython.display:     \"Latex\""
   ]
  },
  {
   "cell_type": "markdown",
   "id": "d1661ec4-e32a-4f4b-8d06-d669e7482d87",
   "metadata": {},
   "source": [
    "Função das funções e dos métodos utlizados:\n",
    "\n",
    "<pre>   - \"splitext\":   divide um texto em tuplas, a divisão dos elementos da tupla é feita a cada caracter \".\".\n",
    "<pre>   - \"Intprogres\": cria uma barra de progresso.\n",
    "<pre>   - \"clf\":        limpa a figura que está na memória da biblioteca matplotlib.\n",
    "<pre>   - \"savefig\":    salva a figura que está na memória da biblioteca matplotlib.\n",
    "<pre>   - \"scatter\":    cria um grafico de dispersão dos dados recebidos.\n",
    "<pre>   - \"title\":      cria um titulo para o grafico.\n",
    "<pre>   - \"xlabel\":     cria um titulo para o eixo x do grafico.\n",
    "<pre>   - \"ylabel\":     cria um titulo para o eixo y do grafico.\n",
    "<pre>   - \"close\":      fecha o gráfico exibido na biblioteca matplotlib.\n",
    "<pre>   - \"plot\":       plota um conjunto de dados \"contínuos\" (na computação, um conjunto de dados não é perfeitamente contínuo).\n",
    "<pre>   - \"show\":       salva o grafico na memoria do matplotlib e mostra o grafico para o usuário.\n",
    "<pre>   - \"loadtxt\":    lê um arquivo do tipo txt.\n",
    "<pre>   - \"mean\":       calcula a média de um array.\n",
    "<pre>   - \"log10\":      calcula o logatírimo de base 10 de uma variável do tipo array ou do tipo float.\n",
    "<pre>   - \"sqrt\":       calcula a raiz quadrada de uma variável do tipo array ou do tipo float.\n",
    "<pre>   - \"diag\":       recebe uma matriz e retorna sua diagonal em um array.\n",
    "<pre>   - \"linspace\":   cria um array de floats dentro de um intervalo definido.\n",
    "<pre>   - \"LombScargle  recebe um dois vetores de dados e retorna um vetor de periodos possiveis e um vetor com a potência de espectro \n",
    "<pre>                   de fourier associada a cada periodo.\n",
    "<pre>   - \"curve_fit\"   recebe uma função e dois vetores de dados e retorna, a partir de um ajuste pelo método dos minimos quadrados \n",
    "<pre>                   não linear, os coeficientes do ajuste com sua matriz de covariância.\n",
    "<pre>   - \"Latex\"       recebe uma string no formato f' na linguagem Latex e retorna uma string em formato s' transformada e linguagem de string."
   ]
  },
  {
   "cell_type": "markdown",
   "id": "db132dc6-1d47-489c-bfa2-b8201b4367c1",
   "metadata": {},
   "source": [
    ">Esse bloco de código importa as bibliotecas e métodos necessários ao segundo passo:"
   ]
  },
  {
   "cell_type": "code",
   "execution_count": 4,
   "id": "8804a427-b471-4d9c-9265-fe1ebbac5f22",
   "metadata": {},
   "outputs": [],
   "source": [
    "from os.path import splitext\n",
    "from ipywidgets import IntProgress\n",
    "from matplotlib.pyplot import clf,savefig,scatter,title,xlabel,ylabel,close,plot,show\n",
    "from numpy import loadtxt,mean,log10,sqrt,diag,linspace\n",
    "from astropy.timeseries import LombScargle\n",
    "from scipy.optimize import curve_fit\n",
    "from IPython.display import Latex"
   ]
  },
  {
   "cell_type": "markdown",
   "id": "9674fd6d-2d0e-4811-a81f-9ddb5c120782",
   "metadata": {},
   "source": [
    "Para o calculo dos periodos e da Lei de Leavitt são definidas as funções \"imprimir\" e \"ajuste\".\n",
    "- A função \"imprimir\" recebe uma tupla e a imprime em um arquivo txt denominado \"results.txt\"\n",
    "- A função \"ajuste\" recebe duas tuplas e uma string, faz um ajuste das tuplas - através do método<br>\"curve_fit\" - em uma reta, calcula o erro do ajuste, mostra a curva de ajuste e a salva em um arquivo png"
   ]
  },
  {
   "cell_type": "code",
   "execution_count": 5,
   "id": "14e67491-fe63-4657-8e6a-cc48e4175a3e",
   "metadata": {},
   "outputs": [],
   "source": [
    "def imprimir(nome,periodos,log_periodo,mag):\n",
    "        '''Essa função é responsável por imprimir os resultados\n",
    "        em um arquivo  txt'''\n",
    "        \n",
    "        arquivo=open('./RESULTS/results.txt','a')\n",
    "        arquivo.write('%s %f %f %f\\n'%(nome,periodos,log_periodo,mag))\n",
    "        arquivo.close()"
   ]
  },
  {
   "cell_type": "code",
   "execution_count": 6,
   "id": "a7fecfa2-791e-4ee5-a1b0-5b7ecf74542e",
   "metadata": {},
   "outputs": [],
   "source": [
    "def ajuste(X,Y,z):\n",
    "    '''Essa função faz o ajuste linear e calcula\n",
    "    a relação PL'''\n",
    "\n",
    "    #Importando as funções necessárias\n",
    "        \n",
    "    function = (lambda u,a,b: u*a + b)\n",
    "    popt,cov=curve_fit(function,X,Y)\n",
    "    error = sqrt(diag(cov))\n",
    "        \n",
    "    t=linspace(min(X),max(X))\n",
    "    y_reg = function(t, popt[0],popt[1])\n",
    "\n",
    "    scatter(X,Y,c='k')\n",
    "    plot(t,y_reg,\"-r\")\n",
    "    display(Latex(f'Lei de Leavitt: $m = (%.5f \\pm %.5f) \\cdot \\log (P) + (%.5f \\pm %.5f)$'%(popt[0], error[0], popt[1], error[1])))\n",
    "    title('Lei de Leavitt')\n",
    "    xlabel('log(Periodo)')\n",
    "    ylabel('Magnitude Aparente')\n",
    "    savefig('./RESULTS/PL-%s.png'%z, format='png')\n",
    "    show()\n",
    "    close()"
   ]
  },
  {
   "cell_type": "markdown",
   "id": "618348cb-2daf-4447-aab1-5848184a835a",
   "metadata": {},
   "source": [
    "> Esse bloco abre os dados das estrelas armazenadas na variável \"DATABASE\", calcula - através do método LombScargle - o periodo de oscilação das estrelas, salva os periodos e as magnitudes médias em um arquivo de texto e faz um ajuste dos dados do logaritmo do periodo em função da magnitude média para os dados obtidos."
   ]
  },
  {
   "cell_type": "code",
   "execution_count": 7,
   "id": "d155da9a-745c-4e8e-b277-b487522121c7",
   "metadata": {},
   "outputs": [
    {
     "name": "stdout",
     "output_type": "stream",
     "text": [
      "1-2 Calculando os Periodos\n"
     ]
    },
    {
     "data": {
      "application/vnd.jupyter.widget-view+json": {
       "model_id": "372434909143458f86ec62628e8b4157",
       "version_major": 2,
       "version_minor": 0
      },
      "text/plain": [
       "IntProgress(value=0, max=790)"
      ]
     },
     "metadata": {},
     "output_type": "display_data"
    },
    {
     "data": {
      "text/latex": [
       "Lei de Leavitt: $m = (-0.06978 \\pm 0.06592) \\cdot \\log (P) + (15.89014 \\pm 0.05480)$"
      ],
      "text/plain": [
       "<IPython.core.display.Latex object>"
      ]
     },
     "metadata": {},
     "output_type": "display_data"
    },
    {
     "data": {
      "image/png": "[encoded data removed]",
      "text/plain": [
       "<Figure size 432x288 with 1 Axes>"
      ]
     },
     "metadata": {
      "needs_background": "light"
     },
     "output_type": "display_data"
    }
   ],
   "source": [
    "print('1-2 Calculando os Periodos')\n",
    "progresso = IntProgress(min=0,max = len(DATABASE))\n",
    "display(progresso)\n",
    "relatorio = []\n",
    "per_mag=[],[]   \n",
    "for i in DATABASE:\n",
    "\n",
    "    progresso.value+=1\n",
    "    clf()\n",
    "    texto=splitext(i)\n",
    "\n",
    "#Carregando os Arquivos:  \n",
    "\n",
    "    data=loadtxt('.\\DATABASE\\%s'%(texto[0]+texto[1]),delimiter=' ')\n",
    "    t=tuple(data[:,0])\n",
    "    y=tuple(data[:,1])\n",
    "    del(data)\n",
    "            \n",
    "#Calculando os Periodos: \n",
    "\n",
    "    aux_1=LombScargle(t, y).autopower() #Uso do Periodograma LombScargle\n",
    "    a,b = list(((1/aux_1[0]).copy()).flatten()) ,list(((aux_1[1]).copy()).flatten())\n",
    "    del(aux_1)\n",
    "    periodos=a[b.index(max(b))] #Definindo o periodo mais provável a partir do Periodograma\n",
    "    del(a,b)\n",
    "    mag=mean(y)            \n",
    "    log_p=log10(periodos)\n",
    "            \n",
    "#Imprimindo o Relatório\n",
    "\n",
    "    imprimir(texto[0]+texto[1],periodos,log_p,mag)\n",
    "    relatorio.append([texto[0]+texto[1],periodos,log_p,mag]) \n",
    "\n",
    "#Guardando os resultados em variaveis           \n",
    "    per_mag[0].append(log_p)\n",
    "    per_mag[1].append(mag)\n",
    "    del(mag)\n",
    "    clf()\n",
    "\n",
    "ajuste(list(per_mag[0]),list(per_mag[1]),'antes')  "
   ]
  },
  {
   "cell_type": "markdown",
   "id": "f3322580-926c-4333-a4aa-bd76b0d530d5",
   "metadata": {},
   "source": [
    "# Terceira etapa: calcular o espaço de fase"
   ]
  },
  {
   "cell_type": "markdown",
   "id": "98f45b5a-3ed6-4541-9bf4-3af8130f19df",
   "metadata": {},
   "source": [
    "> Após o calculo dos periodos, o algoritmo calcula o espaço de fase dos dados de magnitude e tempo das estrelas"
   ]
  },
  {
   "cell_type": "markdown",
   "id": "e2547f66-dc7a-4c75-ad69-0f00ee6a3c68",
   "metadata": {},
   "source": [
    "Para o calculo do espaço de fase é necessária a biblioteca \"numpy\".\n",
    "<pre>   - Métodos importados da biblioteca \"numpy\": \"remainder\" e \"concatenate\""
   ]
  },
  {
   "cell_type": "markdown",
   "id": "e65fe1a7-3242-488d-b187-f4ec8b1a834c",
   "metadata": {},
   "source": [
    "Função dos métodos utilizados\n",
    "<pre>   - \"remainder\":   recebe dois arrays e retorna o resto da divisão dos elementos de mesma coluna\n",
    "<pre>   - \"concatenate\": receber dois arrays e retorna a concatenação dos arrays."
   ]
  },
  {
   "cell_type": "markdown",
   "id": "50d5e782-046a-4c09-99c5-e62b8e44d2d5",
   "metadata": {},
   "source": [
    "> Esse bloco importa as funções necessárias à terceira etapa do algoritmo."
   ]
  },
  {
   "cell_type": "code",
   "execution_count": 8,
   "id": "a64f157c-ac5a-49b1-801e-bb571e933466",
   "metadata": {},
   "outputs": [],
   "source": [
    "from numpy import remainder,concatenate"
   ]
  },
  {
   "cell_type": "markdown",
   "id": "ff11f4db-5cc7-4fa2-8ec1-c103bce3949b",
   "metadata": {},
   "source": [
    "Para o calculo do espaço de fase é definida a função \"phase_fold\".\n",
    "\n",
    "* A função \"phase_fold\" recebe os dados do tempo, da magnitude aparente e do periodo e retorna os dados da magnitude aparente e do tempo em fase com o periodo."
   ]
  },
  {
   "cell_type": "code",
   "execution_count": 9,
   "id": "85f9ed3e-9690-45e4-8338-3ff0ca64c658",
   "metadata": {},
   "outputs": [],
   "source": [
    "def phase_fold(t,y,period):\n",
    "    \n",
    "    #Essa Função Transforma a Fotometria no Espaço de Fase   \n",
    "    \n",
    "    phases=remainder(t,period)/period    \n",
    "    return concatenate((phases,phases+1)),concatenate((y,y))"
   ]
  },
  {
   "cell_type": "markdown",
   "id": "138868c5-b406-4a40-9ae6-3d5c28ecc9a1",
   "metadata": {},
   "source": [
    "> Esse bloco lê o nome e os periodos das estrelas, carregas os dados das estrelas, calcula o espaço de fase para cada estrela e guarda os dados das estrelas - em fase - em um arquivo de texto."
   ]
  },
  {
   "cell_type": "code",
   "execution_count": 10,
   "id": "2e32a087-2006-400e-a366-74291db1d30f",
   "metadata": {},
   "outputs": [],
   "source": [
    "aux=tuple(listdir('.\\DATABASE'))\n",
    "star=[[x[0] for x in relatorio],[x[1] for x in relatorio]]       \n",
    "for i in range(len(star[0])):\n",
    "        \n",
    "    #Carregando os Arquivos:   \n",
    "    \n",
    "    data=loadtxt('.\\DATABASE\\%s'%(star[0][i]),delimiter=' ')\n",
    "    periodos=float(star[1][i])\n",
    "    t=tuple(data[:,0][1:])\n",
    "    y=tuple(data[:,1][1:])          \n",
    "    del(data)\n",
    "            \n",
    "    #Imprimindo os Dados:\n",
    "    \n",
    "    a1,a2=phase_fold(t,y,periodos)\n",
    "    del(y)\n",
    "    a1=tuple(a1.tolist()),tuple(a2.tolist())           \n",
    "    del(a2)\n",
    "    arquivo=open('./RESULTS/Fase-Data/%s.txt'%splitext(star[0][i])[0],'a')\n",
    "    for i in range(len(a1[0])):\n",
    "            arquivo.write(\"%f %f\\n\"%(a1[0][i],a1[1][i]))\n",
    "    arquivo.close()\n",
    "    del(arquivo,a1,periodos)\n",
    "    \n",
    "del(aux)  "
   ]
  },
  {
   "cell_type": "markdown",
   "id": "4396ed1b-2fdc-42da-b89f-f5cc4c46a52f",
   "metadata": {},
   "source": [
    "# Quarta etapa: imprimir a curva de luz das estrelas e analisar a dispersão"
   ]
  },
  {
   "cell_type": "markdown",
   "id": "123186d3-554f-482c-ae74-3310618a6b24",
   "metadata": {},
   "source": [
    "> Após o cálculo do espaço de fase, o algortimo imprime a curva de luz das estrelas e calcula um coeficiente de dispersão para cada estrela."
   ]
  },
  {
   "cell_type": "markdown",
   "id": "388e9e78-65c3-45ba-8392-6575cecb4f15",
   "metadata": {},
   "source": [
    "Para imprimir as curvas de luz e fazer a análise de dispersão são necessárias as bibliotecas \"cv2\", \"PIL\", \"numpy\", \"shutil\" e \"matplotlib\".\n",
    "\n",
    "<pre>   - Função importada da biblioteca \"PIL.image\":     \"open\"<br>\n",
    "<pre>   - Funções importados da biblioteca \"numpy\": \"array\", \"sum\" e \"genfromtxt\"<br>\n",
    "<pre>   - Método importado da função \"matplotlib.pyplot\":    \"gcf\"<br>"
   ]
  },
  {
   "cell_type": "markdown",
   "id": "f0f3a25c-dd82-4d41-ba05-49ac7e50b152",
   "metadata": {},
   "source": [
    "Função dos métodos utilizados\n",
    "<pre>   - \"image.open\":   abre uma imagem da classe PIL.\n",
    "<pre>   - \"cv2.imread\":   carrega uma imagem a partir de um arquivo.\n",
    "<pre>   - \"array\":        transforma uma tupla, lista ou float em um array.\n",
    "<pre>   - \"sum\":          retorna a soma de todos os elementos de um array.\n",
    "<pre>   - \"genfromtxt\":   carrega um arquivo .txt em uma matriz, onde os arrays representam as colunas.\n",
    "<pre>   - \"gcf\":          carrega a imagem na memória atual da biblioteca \"matplotlib\"."
   ]
  },
  {
   "cell_type": "markdown",
   "id": "1b4c9ba5-926c-4595-be31-07dd3b443f20",
   "metadata": {},
   "source": [
    "> Esse bloco importa as funções necessárias à quarta etapa do algoritmo."
   ]
  },
  {
   "cell_type": "code",
   "execution_count": 11,
   "id": "a8afd46c-994b-4c8e-bbb9-045bd70b26bd",
   "metadata": {},
   "outputs": [],
   "source": [
    "import cv2\n",
    "from PIL import Image\n",
    "from numpy import array,sum,genfromtxt\n",
    "from shutil import move\n",
    "from matplotlib.pyplot import gcf"
   ]
  },
  {
   "cell_type": "markdown",
   "id": "7fae2233-f81b-410e-87b9-7d73f279db0a",
   "metadata": {},
   "source": [
    "> Esse bloco carrega os dados das curvas de luz em fase (calculados na etapa anterior), em seguida imprime a curva de luz em fase, carrega as curvas de luz e faz uma contagem dos pixels - brancos e pretos - de cada curva de luz (essa contagem é feita para a imagem inteira e para um recorte horizontal no centro da imagem); depois são calculados coeficientes de dispersão (o quociente entre os pixels pretos e os brancos) e esses coeficientes determinam - a partir de um valor padrão - se á estrela é considerada dispersa ou não, os resultados obtidos são dispostos em um arquivo denominado \"dispersao.txt\", no diretório \"RESULTS\". As estrelas dispersas são removidas do diretório \"DATABASE\" e são movidas para um diretório denominado \"DISPERSAO\". "
   ]
  },
  {
   "cell_type": "code",
   "execution_count": 12,
   "id": "983b2e8d-3aba-4eb3-b0b3-0a55e74b71f5",
   "metadata": {},
   "outputs": [
    {
     "name": "stdout",
     "output_type": "stream",
     "text": [
      "2-2 Imprimindo as curvas de luz\n"
     ]
    },
    {
     "data": {
      "application/vnd.jupyter.widget-view+json": {
       "model_id": "31d4ccb559cb4dbeb4e98caebc685fd2",
       "version_major": 2,
       "version_minor": 0
      },
      "text/plain": [
       "IntProgress(value=0, max=790)"
      ]
     },
     "metadata": {},
     "output_type": "display_data"
    },
    {
     "name": "stdout",
     "output_type": "stream",
     "text": [
      "Calculos Concluidos... Programa encerrado\n"
     ]
    }
   ],
   "source": [
    "print('2-2 Imprimindo as curvas de luz')\n",
    "progresso2 = IntProgress(min=0,max = len(relatorio))\n",
    "display(progresso2)\n",
    "\n",
    "m_dispersao,m_corte = [],[]\n",
    "\n",
    "for i in range(len(relatorio)):\n",
    "\n",
    "    progresso2.value+=1\n",
    "    nome=splitext(relatorio[i][0])\n",
    "    data=genfromtxt('.\\RESULTS\\\\Fase-Data\\\\%s.txt'%nome[0],delimiter=' ')\n",
    "\n",
    "    x=list([k[0] for k in data])\n",
    "    y=list([k[1] for k in data])\n",
    "        \n",
    "    magnitude=float(relatorio[i][2])            \n",
    "    scatter(x,y,c='k')\n",
    "    title('Periodo: %f / Magnitude: %f'%(float(relatorio[i][1]),magnitude))\n",
    "    xlabel('Fase')\n",
    "    ylabel('Magnitude')\n",
    "    (gcf()).savefig('./RESULTS/Fase/%s-Fase.png'%nome[0], format='png')\n",
    "    close()\n",
    "\n",
    "    corte = cv2.imread('./RESULTS/Fase/%s-Fase.png'%nome[0])\n",
    "    \n",
    "    white=sum(corte == 255)\n",
    "    black=sum(corte == 0)\n",
    "    dispersao=black/white \n",
    "   \n",
    "    corte=Image.open('./RESULTS/Fase/%s-Fase.png'%nome[0])\n",
    "    corte=corte.crop((corte.size[0]*2/10, corte.size[1]*2/10, corte.size[0]/2 - corte.size[0]*1/10,corte.size[1]/2 - corte.size[0]*1/10))\n",
    "    corte=array(corte)\n",
    "\n",
    "    white=sum(corte == 255)\n",
    "    black=sum(corte == 0)   \n",
    "    corte=black/white\n",
    "    \n",
    "    m_dispersao.append(dispersao)\n",
    "    m_corte.append(corte)\n",
    "    \n",
    "    min_disp=0.05\n",
    "    max_disp=0.15\n",
    "    \n",
    "    min_cort=0.02\n",
    "    max_cort=0.12\n",
    "                      \n",
    "    if dispersao>max_disp or dispersao<min_disp:\n",
    "            move('./DATABASE/%s'%relatorio[i][0],'./DISPERSAO/%s'%relatorio[i][0])\n",
    "            move('./RESULTS/Fase/%s-Fase.png'%nome[0],'./RESULTS/Fase/dispersas/%s-Fase.png'%nome[0])\n",
    "    else:\n",
    "            if corte>max_cort or corte<min_cort:\n",
    "                    move('./DATABASE/%s'%relatorio[i][0],'./DISPERSAO/%s'%relatorio[i][0])\n",
    "                    move('./RESULTS/Fase/%s-Fase.png'%nome[0],'./RESULTS/Fase/dispersas/%s-Fase.png'%nome[0])\n",
    "                            \n",
    "    arquivo=open('.\\RESULTS\\dispersao.txt','a')\n",
    "    arquivo.write('%s dispersão: %f corte: %f\\n'%(nome[0],dispersao,corte))\n",
    "    arquivo.close()\n",
    "            \n",
    "    del(data,nome,magnitude)\n",
    "print(\"Calculos Concluidos... Programa encerrado\")"
   ]
  },
  {
   "cell_type": "markdown",
   "id": "49cbf811-3efe-4fd4-ad35-15b6bc455112",
   "metadata": {},
   "source": [
    "> Esse bloco carrega a lista das estrelas dispersas (que se encontram no diretório \"DISPERSAO\") e carrega o documento \"results.txt\" com o resultado do periodo e da magnitude aparente média de cada estrela. Depois calcula a Lei de Leavitt para as estrelas que passaram no teste de dispersão."
   ]
  },
  {
   "cell_type": "code",
   "execution_count": 13,
   "id": "d02ff61e-281e-474d-9994-d1c6058306ed",
   "metadata": {},
   "outputs": [
    {
     "data": {
      "text/latex": [
       "Lei de Leavitt: $m = (-0.06978 \\pm 0.06592) \\cdot \\log (P) + (15.89014 \\pm 0.05480)$"
      ],
      "text/plain": [
       "<IPython.core.display.Latex object>"
      ]
     },
     "metadata": {},
     "output_type": "display_data"
    },
    {
     "data": {
      "image/png": "[encoded data removed]",
      "text/plain": [
       "<Figure size 432x288 with 1 Axes>"
      ]
     },
     "metadata": {
      "needs_background": "light"
     },
     "output_type": "display_data"
    }
   ],
   "source": [
    "dispersas = listdir('./DISPERSAO')\n",
    "ESTRELAS=loadtxt('./RESULTS/results.txt', delimiter=' ', dtype=str)\n",
    "p_mag=[]\n",
    "dispersas\n",
    "ESTRELAS\n",
    "for i in ESTRELAS:\n",
    "    if i[0] in dispersas:\n",
    "        continue\n",
    "    p_mag.append([float(i[2]),float(i[3])])\n",
    "    \n",
    "ajuste([i[0] for i in p_mag],[i[1] for i in p_mag],'depois') "
   ]
  },
  {
   "cell_type": "markdown",
   "id": "e41d3679-0a29-4aa6-9272-7ccaa4c4e315",
   "metadata": {},
   "source": [
    "> Esse bloco mostra os coeficientes de dispersão calculados para as estrelas no database"
   ]
  },
  {
   "cell_type": "code",
   "execution_count": 14,
   "id": "7d593ff7-2381-409c-9248-f1deace2286e",
   "metadata": {},
   "outputs": [],
   "source": [
    "#m_dispersao\n",
    "#m_corte"
   ]
  }
 ],
 "metadata": {
  "kernelspec": {
   "display_name": "Python 3 (ipykernel)",
   "language": "python",
   "name": "python3"
  },
  "language_info": {
   "codemirror_mode": {
    "name": "ipython",
    "version": 3
   },
   "file_extension": ".py",
   "mimetype": "text/x-python",
   "name": "python",
   "nbconvert_exporter": "python",
   "pygments_lexer": "ipython3",
   "version": "3.9.12"
  }
 },
 "nbformat": 4,
 "nbformat_minor": 5
}
